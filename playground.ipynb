{
 "cells": [
  {
   "cell_type": "code",
   "execution_count": 2,
   "id": "67732fd4",
   "metadata": {},
   "outputs": [],
   "source": [
    "import numpy as np"
   ]
  },
  {
   "cell_type": "code",
   "execution_count": 3,
   "id": "ef4e247a",
   "metadata": {},
   "outputs": [
    {
     "data": {
      "text/plain": [
       "array([1, 2, 3, 4, 5])"
      ]
     },
     "execution_count": 3,
     "metadata": {},
     "output_type": "execute_result"
    }
   ],
   "source": [
    "a1 = np.array([1,2,3,4,5])\n",
    "a1"
   ]
  },
  {
   "cell_type": "code",
   "execution_count": 4,
   "id": "17d49837",
   "metadata": {},
   "outputs": [
    {
     "data": {
      "text/plain": [
       "(5,)"
      ]
     },
     "execution_count": 4,
     "metadata": {},
     "output_type": "execute_result"
    }
   ],
   "source": [
    "a1.shape"
   ]
  },
  {
   "cell_type": "code",
   "execution_count": 5,
   "id": "a75eb42f",
   "metadata": {},
   "outputs": [
    {
     "data": {
      "text/plain": [
       "1"
      ]
     },
     "execution_count": 5,
     "metadata": {},
     "output_type": "execute_result"
    }
   ],
   "source": [
    "a1.ndim"
   ]
  },
  {
   "cell_type": "markdown",
   "id": "e50b8886",
   "metadata": {},
   "source": [
    "# "
   ]
  },
  {
   "cell_type": "code",
   "execution_count": 6,
   "id": "bd9de8af",
   "metadata": {},
   "outputs": [
    {
     "data": {
      "text/plain": [
       "numpy.ndarray"
      ]
     },
     "execution_count": 6,
     "metadata": {},
     "output_type": "execute_result"
    }
   ],
   "source": [
    "type(a1)"
   ]
  },
  {
   "cell_type": "code",
   "execution_count": 7,
   "id": "14593372",
   "metadata": {},
   "outputs": [
    {
     "data": {
      "text/plain": [
       "5"
      ]
     },
     "execution_count": 7,
     "metadata": {},
     "output_type": "execute_result"
    }
   ],
   "source": [
    "a1.size"
   ]
  },
  {
   "cell_type": "code",
   "execution_count": 10,
   "id": "0b3e3fae",
   "metadata": {},
   "outputs": [],
   "source": [
    "a2 = np.array([[1,2.1,3],\n",
    "            [2,3,4.3]])"
   ]
  },
  {
   "cell_type": "code",
   "execution_count": 12,
   "id": "2e479072",
   "metadata": {},
   "outputs": [
    {
     "data": {
      "text/html": [
       "<div>\n",
       "<style scoped>\n",
       "    .dataframe tbody tr th:only-of-type {\n",
       "        vertical-align: middle;\n",
       "    }\n",
       "\n",
       "    .dataframe tbody tr th {\n",
       "        vertical-align: top;\n",
       "    }\n",
       "\n",
       "    .dataframe thead th {\n",
       "        text-align: right;\n",
       "    }\n",
       "</style>\n",
       "<table border=\"1\" class=\"dataframe\">\n",
       "  <thead>\n",
       "    <tr style=\"text-align: right;\">\n",
       "      <th></th>\n",
       "      <th>0</th>\n",
       "      <th>1</th>\n",
       "      <th>2</th>\n",
       "    </tr>\n",
       "  </thead>\n",
       "  <tbody>\n",
       "    <tr>\n",
       "      <th>0</th>\n",
       "      <td>1.0</td>\n",
       "      <td>2.1</td>\n",
       "      <td>3.0</td>\n",
       "    </tr>\n",
       "    <tr>\n",
       "      <th>1</th>\n",
       "      <td>2.0</td>\n",
       "      <td>3.0</td>\n",
       "      <td>4.3</td>\n",
       "    </tr>\n",
       "  </tbody>\n",
       "</table>\n",
       "</div>"
      ],
      "text/plain": [
       "     0    1    2\n",
       "0  1.0  2.1  3.0\n",
       "1  2.0  3.0  4.3"
      ]
     },
     "execution_count": 12,
     "metadata": {},
     "output_type": "execute_result"
    }
   ],
   "source": [
    "import pandas as pd\n",
    "\n",
    "df = pd.DataFrame(a2)\n",
    "df"
   ]
  },
  {
   "cell_type": "code",
   "execution_count": 15,
   "id": "a81fdf1a",
   "metadata": {},
   "outputs": [
    {
     "data": {
      "text/plain": [
       "array([[0., 0., 0.],\n",
       "       [0., 0., 0.]])"
      ]
     },
     "execution_count": 15,
     "metadata": {},
     "output_type": "execute_result"
    }
   ],
   "source": [
    "zeroes = np.zeros((2,3))\n",
    "zeroes"
   ]
  },
  {
   "cell_type": "code",
   "execution_count": 17,
   "id": "e3c67d50",
   "metadata": {},
   "outputs": [
    {
     "data": {
      "text/plain": [
       "array([0, 2, 4, 6, 8])"
      ]
     },
     "execution_count": 17,
     "metadata": {},
     "output_type": "execute_result"
    }
   ],
   "source": [
    "range_arr = np.arange(0,10,2)\n",
    "range_arr"
   ]
  },
  {
   "cell_type": "code",
   "execution_count": 22,
   "id": "ade1d16b",
   "metadata": {},
   "outputs": [
    {
     "data": {
      "text/plain": [
       "array([[2, 1, 2, 1],\n",
       "       [2, 2, 0, 0]])"
      ]
     },
     "execution_count": 22,
     "metadata": {},
     "output_type": "execute_result"
    }
   ],
   "source": [
    "rand = np.random.randint(0,3, size = (2,4))\n",
    "rand"
   ]
  },
  {
   "cell_type": "code",
   "execution_count": 24,
   "id": "ec0964ef",
   "metadata": {},
   "outputs": [
    {
     "data": {
      "text/plain": [
       "array([[0.02069526, 0.82851316, 0.99724532],\n",
       "       [0.34418674, 0.96182527, 0.91802362],\n",
       "       [0.76188072, 0.04631668, 0.06328977],\n",
       "       [0.02537018, 0.03342418, 0.21551721],\n",
       "       [0.73709693, 0.54620062, 0.10221931]])"
      ]
     },
     "execution_count": 24,
     "metadata": {},
     "output_type": "execute_result"
    }
   ],
   "source": [
    "random = np.random.random((5,3))\n",
    "random"
   ]
  },
  {
   "cell_type": "code",
   "execution_count": 4,
   "id": "6eb5faf6",
   "metadata": {},
   "outputs": [
    {
     "data": {
      "text/plain": [
       "array([[[[3, 3, 5, 6, 8],\n",
       "         [8, 3, 1, 9, 1],\n",
       "         [0, 6, 7, 7, 4],\n",
       "         [3, 4, 4, 9, 0]],\n",
       "\n",
       "        [[0, 5, 5, 0, 5],\n",
       "         [5, 8, 8, 7, 7],\n",
       "         [3, 5, 6, 7, 1],\n",
       "         [0, 6, 7, 7, 1]],\n",
       "\n",
       "        [[2, 6, 2, 8, 6],\n",
       "         [3, 9, 0, 4, 6],\n",
       "         [4, 7, 6, 1, 5],\n",
       "         [8, 7, 4, 6, 6]]],\n",
       "\n",
       "\n",
       "       [[[9, 0, 3, 5, 9],\n",
       "         [3, 0, 9, 7, 2],\n",
       "         [0, 6, 4, 9, 5],\n",
       "         [3, 0, 9, 6, 1]],\n",
       "\n",
       "        [[3, 9, 9, 1, 0],\n",
       "         [8, 3, 1, 0, 8],\n",
       "         [5, 2, 7, 3, 0],\n",
       "         [9, 9, 6, 0, 7]],\n",
       "\n",
       "        [[1, 7, 0, 2, 7],\n",
       "         [1, 9, 3, 4, 6],\n",
       "         [4, 9, 4, 2, 9],\n",
       "         [1, 5, 6, 4, 4]]]])"
      ]
     },
     "execution_count": 4,
     "metadata": {},
     "output_type": "execute_result"
    }
   ],
   "source": [
    "a4 = np.random.randint(10, size = (2,3,4,5))\n",
    "a4"
   ]
  },
  {
   "cell_type": "code",
   "execution_count": 9,
   "id": "2526d45a",
   "metadata": {},
   "outputs": [
    {
     "data": {
      "text/plain": [
       "array([[[[3, 3],\n",
       "         [8, 3],\n",
       "         [0, 6],\n",
       "         [3, 4]],\n",
       "\n",
       "        [[0, 5],\n",
       "         [5, 8],\n",
       "         [3, 5],\n",
       "         [0, 6]],\n",
       "\n",
       "        [[2, 6],\n",
       "         [3, 9],\n",
       "         [4, 7],\n",
       "         [8, 7]]],\n",
       "\n",
       "\n",
       "       [[[9, 0],\n",
       "         [3, 0],\n",
       "         [0, 6],\n",
       "         [3, 0]],\n",
       "\n",
       "        [[3, 9],\n",
       "         [8, 3],\n",
       "         [5, 2],\n",
       "         [9, 9]],\n",
       "\n",
       "        [[1, 7],\n",
       "         [1, 9],\n",
       "         [4, 9],\n",
       "         [1, 5]]]])"
      ]
     },
     "execution_count": 9,
     "metadata": {},
     "output_type": "execute_result"
    }
   ],
   "source": [
    "a4[:,:,:,:2]"
   ]
  },
  {
   "cell_type": "code",
   "execution_count": null,
   "id": "c618b0b7",
   "metadata": {},
   "outputs": [],
   "source": []
  }
 ],
 "metadata": {
  "kernelspec": {
   "display_name": "Python 3 (ipykernel)",
   "language": "python",
   "name": "python3"
  },
  "language_info": {
   "codemirror_mode": {
    "name": "ipython",
    "version": 3
   },
   "file_extension": ".py",
   "mimetype": "text/x-python",
   "name": "python",
   "nbconvert_exporter": "python",
   "pygments_lexer": "ipython3",
   "version": "3.11.4"
  }
 },
 "nbformat": 4,
 "nbformat_minor": 5
}
